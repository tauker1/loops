{
  "metadata": {
    "language_info": {
      "codemirror_mode": {
        "name": "python",
        "version": 3
      },
      "file_extension": ".py",
      "mimetype": "text/x-python",
      "name": "python",
      "nbconvert_exporter": "python",
      "pygments_lexer": "ipython3",
      "version": "3.8"
    },
    "kernelspec": {
      "name": "python",
      "display_name": "Python (Pyodide)",
      "language": "python"
    }
  },
  "nbformat_minor": 4,
  "nbformat": 4,
  "cells": [
    {
      "cell_type": "code",
      "source": "",
      "metadata": {},
      "execution_count": null,
      "outputs": []
    },
    {
      "cell_type": "code",
      "source": "\"\"\"\nTrey Auker\nGPA teller\nthis program is tell you if you are on the deans list or honor roll\n\"\"\"\nlastName = 0\nfirstName = 0\nGPA = float\n\nwhile True:\n    lastName = input(\"Please enter last name:     \")\n    if lastName == \"ZZZ\":\n        break\n        \n    firstName = input(\"Please enter first name: \")\n    GPA = float(input(\"What is the student's GPA? :   \"))\n    \n    if GPA >= 3.25:\n        print(firstName + lastName + \"you made honor roll\")\n    elif GPA >= 3.5:\n        print:(firstName + lastName + \"you made the dean list\")\nelse:\n    print(\"Sorry, \" + firstName + lastName + \" is not acceptable\")",
      "metadata": {
        "trusted": true
      },
      "execution_count": null,
      "outputs": []
    },
    {
      "cell_type": "code",
      "source": "",
      "metadata": {},
      "execution_count": null,
      "outputs": []
    }
  ]
}